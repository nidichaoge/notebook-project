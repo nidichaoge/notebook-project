{
 "cells": [
  {
   "cell_type": "code",
   "execution_count": 4,
   "metadata": {},
   "outputs": [
    {
     "name": "stdout",
     "output_type": "stream",
     "text": [
      "+---------+-----+-------+-----+----+\n",
      "|     NAME|CLASS|SUBJECT|SCORE|RANK|\n",
      "+---------+-----+-------+-----+----+\n",
      "|Student C|    2|    Art|   60|   1|\n",
      "|Student D|    2|    Art|   60|   1|\n",
      "|Student B|    1|    Art|   40|   3|\n",
      "|Student A|    1|    Art|   20|   4|\n",
      "|Student D|    2|Science|   70|   1|\n",
      "|Student C|    2|Science|   50|   2|\n",
      "|Student A|    1|Science|   10|   3|\n",
      "|Student B|    1|Science|   10|   3|\n",
      "+---------+-----+-------+-----+----+\n",
      "\n"
     ]
    }
   ],
   "source": [
    "# Window Function\n",
    "# rank()\n",
    "# dense_rank()\n",
    "# row_number()\n",
    "# percent_rank()\n",
    "# ntile(offset)\n",
    "# lag(col,offset,default)\n",
    "# lead(col,offset,default)\n",
    "# cume_dist()\n",
    "# nth_value(col,offset,ignoreNull)\n",
    "from pyspark.sql import SparkSession\n",
    "from pyspark.sql import Window\n",
    "from pyspark.sql.functions import *\n",
    "\n",
    "spark = SparkSession.builder.master(\"local\").getOrCreate()\n",
    "df = spark.createDataFrame([\n",
    "    [\"Student A\",1,\"Science\",10],\n",
    "    [\"Student A\",1,\"Art\",20],\n",
    "\n",
    "    [\"Student B\",1,\"Science\",10],\n",
    "    [\"Student B\",1,\"Art\",40],\n",
    "\n",
    "    [\"Student C\",2,\"Science\",50],\n",
    "    [\"Student C\",2,\"Art\",60],\n",
    "\n",
    "    [\"Student D\",2,\"Science\",70],\n",
    "    [\"Student D\",2,\"Art\",60],\n",
    "],[\"NAME\",\"CLASS\",\"SUBJECT\",\"SCORE\"])\n",
    "\n",
    "# 计算每个学生在专业里的成绩排名\n",
    "spec = Window.partitionBy(df.SUBJECT).orderBy(df.SCORE.desc())\n",
    "df.withColumn(\"RANK\",rank().over(spec)).show()"
   ]
  },
  {
   "cell_type": "code",
   "execution_count": 5,
   "metadata": {},
   "outputs": [
    {
     "name": "stdout",
     "output_type": "stream",
     "text": [
      "+---------+-----+-------+-----+----+\n",
      "|     NAME|CLASS|SUBJECT|SCORE|RANK|\n",
      "+---------+-----+-------+-----+----+\n",
      "|Student C|    2|    Art|   60|   1|\n",
      "|Student D|    2|    Art|   60|   1|\n",
      "|Student B|    1|    Art|   40|   2|\n",
      "|Student A|    1|    Art|   20|   3|\n",
      "|Student D|    2|Science|   70|   1|\n",
      "|Student C|    2|Science|   50|   2|\n",
      "|Student A|    1|Science|   10|   3|\n",
      "|Student B|    1|Science|   10|   3|\n",
      "+---------+-----+-------+-----+----+\n",
      "\n"
     ]
    }
   ],
   "source": [
    "spec = Window.partitionBy(df.SUBJECT).orderBy(df.SCORE.desc())\n",
    "df.withColumn(\"RANK\",dense_rank().over(spec)).show()"
   ]
  },
  {
   "cell_type": "code",
   "execution_count": 6,
   "metadata": {},
   "outputs": [
    {
     "name": "stdout",
     "output_type": "stream",
     "text": [
      "+---------+-----+-------+-----+----+\n",
      "|     NAME|CLASS|SUBJECT|SCORE|RANK|\n",
      "+---------+-----+-------+-----+----+\n",
      "|Student C|    2|    Art|   60|   1|\n",
      "|Student D|    2|    Art|   60|   2|\n",
      "|Student B|    1|    Art|   40|   3|\n",
      "|Student A|    1|    Art|   20|   4|\n",
      "|Student D|    2|Science|   70|   1|\n",
      "|Student C|    2|Science|   50|   2|\n",
      "|Student A|    1|Science|   10|   3|\n",
      "|Student B|    1|Science|   10|   4|\n",
      "+---------+-----+-------+-----+----+\n",
      "\n"
     ]
    }
   ],
   "source": [
    "spec = Window.partitionBy(df.SUBJECT).orderBy(df.SCORE.desc())\n",
    "df.withColumn(\"RANK\",row_number().over(spec)).show()"
   ]
  },
  {
   "cell_type": "code",
   "execution_count": 7,
   "metadata": {},
   "outputs": [
    {
     "name": "stdout",
     "output_type": "stream",
     "text": [
      "+---------+-----+-------+-----+------------------+\n",
      "|     NAME|CLASS|SUBJECT|SCORE|              RANK|\n",
      "+---------+-----+-------+-----+------------------+\n",
      "|Student C|    2|    Art|   60|               0.0|\n",
      "|Student D|    2|    Art|   60|               0.0|\n",
      "|Student B|    1|    Art|   40|0.6666666666666666|\n",
      "|Student A|    1|    Art|   20|               1.0|\n",
      "|Student D|    2|Science|   70|               0.0|\n",
      "|Student C|    2|Science|   50|0.3333333333333333|\n",
      "|Student A|    1|Science|   10|0.6666666666666666|\n",
      "|Student B|    1|Science|   10|0.6666666666666666|\n",
      "+---------+-----+-------+-----+------------------+\n",
      "\n"
     ]
    }
   ],
   "source": [
    "spec = Window.partitionBy(df.SUBJECT).orderBy(df.SCORE.desc())\n",
    "df.withColumn(\"RANK\",percent_rank().over(spec)).show()"
   ]
  },
  {
   "cell_type": "code",
   "execution_count": 8,
   "metadata": {},
   "outputs": [
    {
     "name": "stdout",
     "output_type": "stream",
     "text": [
      "+---------+-----+-------+-----+----+\n",
      "|     NAME|CLASS|SUBJECT|SCORE|RANK|\n",
      "+---------+-----+-------+-----+----+\n",
      "|Student C|    2|    Art|   60|   1|\n",
      "|Student D|    2|    Art|   60|   1|\n",
      "|Student B|    1|    Art|   40|   2|\n",
      "|Student A|    1|    Art|   20|   3|\n",
      "|Student D|    2|Science|   70|   1|\n",
      "|Student C|    2|Science|   50|   1|\n",
      "|Student A|    1|Science|   10|   2|\n",
      "|Student B|    1|Science|   10|   3|\n",
      "+---------+-----+-------+-----+----+\n",
      "\n"
     ]
    }
   ],
   "source": [
    "spec = Window.partitionBy(df.SUBJECT).orderBy(df.SCORE.desc())\n",
    "df.withColumn(\"RANK\",ntile(3).over(spec)).show()"
   ]
  },
  {
   "cell_type": "code",
   "execution_count": 9,
   "metadata": {},
   "outputs": [
    {
     "name": "stdout",
     "output_type": "stream",
     "text": [
      "+---------+-----+-------+-----+----+\n",
      "|     NAME|CLASS|SUBJECT|SCORE|RANK|\n",
      "+---------+-----+-------+-----+----+\n",
      "|Student C|    2|    Art|   60|null|\n",
      "|Student D|    2|    Art|   60|  60|\n",
      "|Student B|    1|    Art|   40|  60|\n",
      "|Student A|    1|    Art|   20|  40|\n",
      "|Student D|    2|Science|   70|null|\n",
      "|Student C|    2|Science|   50|  70|\n",
      "|Student A|    1|Science|   10|  50|\n",
      "|Student B|    1|Science|   10|  10|\n",
      "+---------+-----+-------+-----+----+\n",
      "\n"
     ]
    }
   ],
   "source": [
    "spec = Window.partitionBy(df.SUBJECT).orderBy(df.SCORE.desc())\n",
    "df.withColumn(\"RANK\",lag(df.SCORE,1,None).over(spec)).show()"
   ]
  },
  {
   "cell_type": "code",
   "execution_count": 10,
   "metadata": {},
   "outputs": [
    {
     "name": "stdout",
     "output_type": "stream",
     "text": [
      "+---------+-----+-------+-----+----+\n",
      "|     NAME|CLASS|SUBJECT|SCORE|RANK|\n",
      "+---------+-----+-------+-----+----+\n",
      "|Student C|    2|    Art|   60|  60|\n",
      "|Student D|    2|    Art|   60|  40|\n",
      "|Student B|    1|    Art|   40|  20|\n",
      "|Student A|    1|    Art|   20|null|\n",
      "|Student D|    2|Science|   70|  50|\n",
      "|Student C|    2|Science|   50|  10|\n",
      "|Student A|    1|Science|   10|  10|\n",
      "|Student B|    1|Science|   10|null|\n",
      "+---------+-----+-------+-----+----+\n",
      "\n"
     ]
    }
   ],
   "source": [
    "spec = Window.partitionBy(df.SUBJECT).orderBy(df.SCORE.desc())\n",
    "df.withColumn(\"RANK\",lead(df.SCORE,1,None).over(spec)).show()"
   ]
  },
  {
   "cell_type": "code",
   "execution_count": 11,
   "metadata": {},
   "outputs": [
    {
     "name": "stdout",
     "output_type": "stream",
     "text": [
      "+---------+-----+-------+-----+----+\n",
      "|     NAME|CLASS|SUBJECT|SCORE|RANK|\n",
      "+---------+-----+-------+-----+----+\n",
      "|Student C|    2|    Art|   60| 0.5|\n",
      "|Student D|    2|    Art|   60| 0.5|\n",
      "|Student B|    1|    Art|   40|0.75|\n",
      "|Student A|    1|    Art|   20| 1.0|\n",
      "|Student D|    2|Science|   70|0.25|\n",
      "|Student C|    2|Science|   50| 0.5|\n",
      "|Student A|    1|Science|   10| 1.0|\n",
      "|Student B|    1|Science|   10| 1.0|\n",
      "+---------+-----+-------+-----+----+\n",
      "\n"
     ]
    }
   ],
   "source": [
    "spec = Window.partitionBy(df.SUBJECT).orderBy(df.SCORE.desc())\n",
    "df.withColumn(\"RANK\",cume_dist().over(spec)).show()"
   ]
  },
  {
   "cell_type": "code",
   "execution_count": 12,
   "metadata": {},
   "outputs": [
    {
     "name": "stdout",
     "output_type": "stream",
     "text": [
      "+---------+-----+-------+-----+----+\n",
      "|     NAME|CLASS|SUBJECT|SCORE|RANK|\n",
      "+---------+-----+-------+-----+----+\n",
      "|Student C|    2|    Art|   60|  60|\n",
      "|Student D|    2|    Art|   60|  60|\n",
      "|Student B|    1|    Art|   40|  60|\n",
      "|Student A|    1|    Art|   20|  60|\n",
      "|Student D|    2|Science|   70|  70|\n",
      "|Student C|    2|Science|   50|  70|\n",
      "|Student A|    1|Science|   10|  70|\n",
      "|Student B|    1|Science|   10|  70|\n",
      "+---------+-----+-------+-----+----+\n",
      "\n"
     ]
    }
   ],
   "source": [
    "spec = Window.partitionBy(df.SUBJECT).orderBy(df.SCORE.desc())\n",
    "df.withColumn(\"RANK\",nth_value(df.SCORE,1,False).over(spec)).show()"
   ]
  }
 ],
 "metadata": {
  "kernelspec": {
   "display_name": "Python 3 (ipykernel)",
   "language": "python",
   "name": "python3"
  },
  "language_info": {
   "codemirror_mode": {
    "name": "ipython",
    "version": 3
   },
   "file_extension": ".py",
   "mimetype": "text/x-python",
   "name": "python",
   "nbconvert_exporter": "python",
   "pygments_lexer": "ipython3",
   "version": "3.9.6"
  }
 },
 "nbformat": 4,
 "nbformat_minor": 1
}
