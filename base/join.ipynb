{
 "cells": [
  {
   "cell_type": "code",
   "execution_count": 165,
   "metadata": {
    "collapsed": true
   },
   "outputs": [],
   "source": [
    "# JOINS\n",
    "# LEFT JOIN <==> LEFT OUTER JOIN\n",
    "# RIGHT JOIN <==> RIGHT OUTER JOIN\n",
    "# INNER JOIN <==> JOIN\n",
    "# FULL OUTER JOIN\n",
    "# LEFT JOIN EXCLUDING INNER JOIN\n",
    "# RIGHT JOIN EXCLUDING INNER JOIN\n",
    "# OUTER JOIN EXCLUDING INNER JOIN\n",
    "# CROSS JOIN == INNER JOIN ???\n",
    "# LEFT SEMI JOIN <==> 子查询WHERE IN 性能???\n",
    "# LEFT ANTI JOIN <==> 子查询WHERE NOT IN 性能???\n",
    "from pyspark.sql import SparkSession\n",
    "\n",
    "spark = SparkSession.builder.master(\"local\").getOrCreate()\n",
    "# 测试数据1：学生语文成绩\n",
    "chinese_score = [(\"Tom\", 79),\n",
    "                 (\"Lily\", 84),\n",
    "                 (\"Sophia\", 99),\n",
    "                 (\"Jerry\", 80),\n",
    "                 (\"Chery\", 67)]\n",
    "chinese_scheme = ['name', 'chinese_score']\n",
    "df_chinese = spark.createDataFrame(chinese_score, chinese_scheme)\n",
    "\n",
    "# 测试数据2：学生数学成绩\n",
    "math_score = [(\"Tom\", 79),\n",
    "              (\"Tom\", 80),\n",
    "              (\"Lily\", 84),\n",
    "              (\"Jerry\", 80),\n",
    "              (\"Chery\", 67),\n",
    "              (\"Jack\", 77)]\n",
    "math_schema = ['name', 'math_score']\n",
    "df_math = spark.createDataFrame(math_score, math_schema)"
   ]
  },
  {
   "cell_type": "code",
   "execution_count": 166,
   "outputs": [
    {
     "name": "stdout",
     "output_type": "stream",
     "text": [
      "+------+-------------+\n",
      "|  name|chinese_score|\n",
      "+------+-------------+\n",
      "|   Tom|           79|\n",
      "|  Lily|           84|\n",
      "|Sophia|           99|\n",
      "| Jerry|           80|\n",
      "| Chery|           67|\n",
      "+------+-------------+\n",
      "\n"
     ]
    }
   ],
   "source": [
    "df_chinese.createOrReplaceTempView(\"tb_chinese_score\")\n",
    "df_chinese.show()"
   ],
   "metadata": {
    "collapsed": false,
    "pycharm": {
     "name": "#%%\n"
    }
   }
  },
  {
   "cell_type": "code",
   "execution_count": 167,
   "outputs": [
    {
     "name": "stdout",
     "output_type": "stream",
     "text": [
      "+-----+----------+\n",
      "| name|math_score|\n",
      "+-----+----------+\n",
      "|  Tom|        79|\n",
      "|  Tom|        80|\n",
      "| Lily|        84|\n",
      "|Jerry|        80|\n",
      "|Chery|        67|\n",
      "| Jack|        77|\n",
      "+-----+----------+\n",
      "\n"
     ]
    }
   ],
   "source": [
    "df_math.createOrReplaceTempView(\"tb_math_score\")\n",
    "df_math.show()"
   ],
   "metadata": {
    "collapsed": false,
    "pycharm": {
     "name": "#%%\n"
    }
   }
  },
  {
   "cell_type": "code",
   "execution_count": 168,
   "outputs": [
    {
     "name": "stdout",
     "output_type": "stream",
     "text": [
      "+------+-------------+-----+----------+\n",
      "|  name|chinese_score| name|math_score|\n",
      "+------+-------------+-----+----------+\n",
      "|   Tom|           79|  Tom|        79|\n",
      "|   Tom|           79|  Tom|        80|\n",
      "| Jerry|           80|Jerry|        80|\n",
      "| Chery|           67|Chery|        67|\n",
      "|  Lily|           84| Lily|        84|\n",
      "|Sophia|           99| null|      null|\n",
      "+------+-------------+-----+----------+\n",
      "\n"
     ]
    }
   ],
   "source": [
    "spark.sql(\"select * from tb_chinese_score left join tb_math_score\"\n",
    "          \" on tb_chinese_score.name = tb_math_score.name\").show()"
   ],
   "metadata": {
    "collapsed": false,
    "pycharm": {
     "name": "#%%\n"
    }
   }
  },
  {
   "cell_type": "code",
   "execution_count": 169,
   "outputs": [
    {
     "name": "stdout",
     "output_type": "stream",
     "text": [
      "+-----+-------------+-----+----------+\n",
      "| name|chinese_score| name|math_score|\n",
      "+-----+-------------+-----+----------+\n",
      "| null|         null| Jack|        77|\n",
      "|  Tom|           79|  Tom|        79|\n",
      "|  Tom|           79|  Tom|        80|\n",
      "|Jerry|           80|Jerry|        80|\n",
      "|Chery|           67|Chery|        67|\n",
      "| Lily|           84| Lily|        84|\n",
      "+-----+-------------+-----+----------+\n",
      "\n"
     ]
    }
   ],
   "source": [
    "spark.sql(\"select * from tb_chinese_score right join tb_math_score\"\n",
    "          \" on tb_chinese_score.name = tb_math_score.name\").show()"
   ],
   "metadata": {
    "collapsed": false,
    "pycharm": {
     "name": "#%%\n"
    }
   }
  },
  {
   "cell_type": "code",
   "execution_count": 170,
   "outputs": [
    {
     "name": "stdout",
     "output_type": "stream",
     "text": [
      "+-----+-------------+-----+----------+\n",
      "| name|chinese_score| name|math_score|\n",
      "+-----+-------------+-----+----------+\n",
      "|  Tom|           79|  Tom|        79|\n",
      "|  Tom|           79|  Tom|        80|\n",
      "|Jerry|           80|Jerry|        80|\n",
      "|Chery|           67|Chery|        67|\n",
      "| Lily|           84| Lily|        84|\n",
      "+-----+-------------+-----+----------+\n",
      "\n"
     ]
    }
   ],
   "source": [
    "spark.sql(\"select * from tb_chinese_score join tb_math_score\"\n",
    "          \" on tb_chinese_score.name = tb_math_score.name\").show()"
   ],
   "metadata": {
    "collapsed": false,
    "pycharm": {
     "name": "#%%\n"
    }
   }
  },
  {
   "cell_type": "code",
   "execution_count": 171,
   "outputs": [
    {
     "name": "stdout",
     "output_type": "stream",
     "text": [
      "+-----+-------------+-----+----------+\n",
      "| name|chinese_score| name|math_score|\n",
      "+-----+-------------+-----+----------+\n",
      "|  Tom|           79|  Tom|        79|\n",
      "|  Tom|           79|  Tom|        80|\n",
      "|Jerry|           80|Jerry|        80|\n",
      "|Chery|           67|Chery|        67|\n",
      "| Lily|           84| Lily|        84|\n",
      "+-----+-------------+-----+----------+\n",
      "\n"
     ]
    }
   ],
   "source": [
    "spark.sql(\"select * from tb_chinese_score inner join tb_math_score\"\n",
    "          \" on tb_chinese_score.name = tb_math_score.name\").show()"
   ],
   "metadata": {
    "collapsed": false,
    "pycharm": {
     "name": "#%%\n"
    }
   }
  },
  {
   "cell_type": "code",
   "execution_count": 172,
   "outputs": [
    {
     "name": "stdout",
     "output_type": "stream",
     "text": [
      "+------+-------------+-----+----------+\n",
      "|  name|chinese_score| name|math_score|\n",
      "+------+-------------+-----+----------+\n",
      "|  null|         null| Jack|        77|\n",
      "|   Tom|           79|  Tom|        79|\n",
      "|   Tom|           79|  Tom|        80|\n",
      "| Jerry|           80|Jerry|        80|\n",
      "| Chery|           67|Chery|        67|\n",
      "|  Lily|           84| Lily|        84|\n",
      "|Sophia|           99| null|      null|\n",
      "+------+-------------+-----+----------+\n",
      "\n"
     ]
    }
   ],
   "source": [
    "spark.sql(\"select * from tb_chinese_score full outer join tb_math_score\"\n",
    "          \" on tb_chinese_score.name = tb_math_score.name\").show()"
   ],
   "metadata": {
    "collapsed": false,
    "pycharm": {
     "name": "#%%\n"
    }
   }
  },
  {
   "cell_type": "code",
   "execution_count": 173,
   "outputs": [
    {
     "name": "stdout",
     "output_type": "stream",
     "text": [
      "+------+-------------+----+----------+\n",
      "|  name|chinese_score|name|math_score|\n",
      "+------+-------------+----+----------+\n",
      "|Sophia|           99|null|      null|\n",
      "+------+-------------+----+----------+\n",
      "\n"
     ]
    }
   ],
   "source": [
    "spark.sql(\"select * from tb_chinese_score a left join tb_math_score b\"\n",
    "          \" on a.name = b.name\"\n",
    "          \" where b.name is null \").show()"
   ],
   "metadata": {
    "collapsed": false,
    "pycharm": {
     "name": "#%%\n"
    }
   }
  },
  {
   "cell_type": "code",
   "execution_count": 174,
   "outputs": [
    {
     "name": "stdout",
     "output_type": "stream",
     "text": [
      "+----+-------------+----+----------+\n",
      "|name|chinese_score|name|math_score|\n",
      "+----+-------------+----+----------+\n",
      "|null|         null|Jack|        77|\n",
      "+----+-------------+----+----------+\n",
      "\n"
     ]
    }
   ],
   "source": [
    "spark.sql(\"select * from tb_chinese_score right join tb_math_score\"\n",
    "          \" on tb_chinese_score.name = tb_math_score.name\"\n",
    "          \" where tb_chinese_score.name is null \").show()"
   ],
   "metadata": {
    "collapsed": false,
    "pycharm": {
     "name": "#%%\n"
    }
   }
  },
  {
   "cell_type": "code",
   "execution_count": 175,
   "outputs": [
    {
     "name": "stdout",
     "output_type": "stream",
     "text": [
      "+------+-------------+----+----------+\n",
      "|  name|chinese_score|name|math_score|\n",
      "+------+-------------+----+----------+\n",
      "|  null|         null|Jack|        77|\n",
      "|Sophia|           99|null|      null|\n",
      "+------+-------------+----+----------+\n",
      "\n"
     ]
    }
   ],
   "source": [
    "spark.sql(\"select * from tb_chinese_score full outer join tb_math_score\"\n",
    "          \" on tb_chinese_score.name = tb_math_score.name\"\n",
    "          \" where tb_chinese_score.name is null or tb_math_score.name is null \").show()"
   ],
   "metadata": {
    "collapsed": false,
    "pycharm": {
     "name": "#%%\n"
    }
   }
  },
  {
   "cell_type": "code",
   "execution_count": 176,
   "outputs": [
    {
     "name": "stdout",
     "output_type": "stream",
     "text": [
      "+------+-------------+-----+----------+\n",
      "|  name|chinese_score| name|math_score|\n",
      "+------+-------------+-----+----------+\n",
      "|   Tom|           79|  Tom|        79|\n",
      "|   Tom|           79|  Tom|        80|\n",
      "| Jerry|           80|Jerry|        80|\n",
      "| Chery|           67|Chery|        67|\n",
      "|  Lily|           84| Lily|        84|\n",
      "|Sophia|           99| null|      null|\n",
      "+------+-------------+-----+----------+\n",
      "\n"
     ]
    }
   ],
   "source": [
    "spark.sql(\"select * from tb_chinese_score left outer join tb_math_score\"\n",
    "          \" on tb_chinese_score.name = tb_math_score.name\").show()"
   ],
   "metadata": {
    "collapsed": false,
    "pycharm": {
     "name": "#%%\n"
    }
   }
  },
  {
   "cell_type": "code",
   "execution_count": 177,
   "outputs": [
    {
     "name": "stdout",
     "output_type": "stream",
     "text": [
      "+-----+-------------+-----+----------+\n",
      "| name|chinese_score| name|math_score|\n",
      "+-----+-------------+-----+----------+\n",
      "| null|         null| Jack|        77|\n",
      "|  Tom|           79|  Tom|        79|\n",
      "|  Tom|           79|  Tom|        80|\n",
      "|Jerry|           80|Jerry|        80|\n",
      "|Chery|           67|Chery|        67|\n",
      "| Lily|           84| Lily|        84|\n",
      "+-----+-------------+-----+----------+\n",
      "\n"
     ]
    }
   ],
   "source": [
    "spark.sql(\"select * from tb_chinese_score right outer join tb_math_score\"\n",
    "          \" on tb_chinese_score.name = tb_math_score.name\").show()"
   ],
   "metadata": {
    "collapsed": false,
    "pycharm": {
     "name": "#%%\n"
    }
   }
  },
  {
   "cell_type": "code",
   "execution_count": 178,
   "outputs": [
    {
     "name": "stdout",
     "output_type": "stream",
     "text": [
      "+-----+-------------+-----+----------+\n",
      "| name|chinese_score| name|math_score|\n",
      "+-----+-------------+-----+----------+\n",
      "|  Tom|           79|  Tom|        79|\n",
      "|  Tom|           79|  Tom|        80|\n",
      "|Jerry|           80|Jerry|        80|\n",
      "|Chery|           67|Chery|        67|\n",
      "| Lily|           84| Lily|        84|\n",
      "+-----+-------------+-----+----------+\n",
      "\n"
     ]
    }
   ],
   "source": [
    "spark.sql(\"select * from tb_chinese_score cross join tb_math_score\"\n",
    "          \" on tb_chinese_score.name = tb_math_score.name\").show()"
   ],
   "metadata": {
    "collapsed": false,
    "pycharm": {
     "name": "#%%\n"
    }
   }
  },
  {
   "cell_type": "code",
   "execution_count": 179,
   "outputs": [
    {
     "name": "stdout",
     "output_type": "stream",
     "text": [
      "+-----+-------------+\n",
      "| name|chinese_score|\n",
      "+-----+-------------+\n",
      "|  Tom|           79|\n",
      "|Jerry|           80|\n",
      "|Chery|           67|\n",
      "| Lily|           84|\n",
      "+-----+-------------+\n",
      "\n"
     ]
    }
   ],
   "source": [
    "spark.sql(\"select * from tb_chinese_score left semi join tb_math_score\"\n",
    "          \" on tb_chinese_score.name = tb_math_score.name\").show()"
   ],
   "metadata": {
    "collapsed": false,
    "pycharm": {
     "name": "#%%\n"
    }
   }
  },
  {
   "cell_type": "code",
   "execution_count": 180,
   "outputs": [
    {
     "name": "stdout",
     "output_type": "stream",
     "text": [
      "+-----+-------------+\n",
      "| name|chinese_score|\n",
      "+-----+-------------+\n",
      "|  Tom|           79|\n",
      "|Jerry|           80|\n",
      "|Chery|           67|\n",
      "| Lily|           84|\n",
      "+-----+-------------+\n",
      "\n"
     ]
    }
   ],
   "source": [
    "spark.sql(\"select * from tb_chinese_score where \"\n",
    "          \"name in (select name from tb_math_score)\").show()"
   ],
   "metadata": {
    "collapsed": false,
    "pycharm": {
     "name": "#%%\n"
    }
   }
  },
  {
   "cell_type": "code",
   "execution_count": 181,
   "outputs": [
    {
     "name": "stdout",
     "output_type": "stream",
     "text": [
      "+------+-------------+\n",
      "|  name|chinese_score|\n",
      "+------+-------------+\n",
      "|Sophia|           99|\n",
      "+------+-------------+\n",
      "\n"
     ]
    }
   ],
   "source": [
    "spark.sql(\"select * from tb_chinese_score left anti join tb_math_score\"\n",
    "          \" on tb_chinese_score.name = tb_math_score.name\").show()"
   ],
   "metadata": {
    "collapsed": false,
    "pycharm": {
     "name": "#%%\n"
    }
   }
  },
  {
   "cell_type": "code",
   "execution_count": 182,
   "outputs": [
    {
     "name": "stdout",
     "output_type": "stream",
     "text": [
      "+------+-------------+\n",
      "|  name|chinese_score|\n",
      "+------+-------------+\n",
      "|Sophia|           99|\n",
      "+------+-------------+\n",
      "\n"
     ]
    }
   ],
   "source": [
    "spark.sql(\"select * from tb_chinese_score where \"\n",
    "          \"name not in (select name from tb_math_score)\").show()"
   ],
   "metadata": {
    "collapsed": false,
    "pycharm": {
     "name": "#%%\n"
    }
   }
  }
 ],
 "metadata": {
  "kernelspec": {
   "display_name": "Python 3",
   "language": "python",
   "name": "python3"
  },
  "language_info": {
   "codemirror_mode": {
    "name": "ipython",
    "version": 2
   },
   "file_extension": ".py",
   "mimetype": "text/x-python",
   "name": "python",
   "nbconvert_exporter": "python",
   "pygments_lexer": "ipython2",
   "version": "2.7.6"
  }
 },
 "nbformat": 4,
 "nbformat_minor": 0
}