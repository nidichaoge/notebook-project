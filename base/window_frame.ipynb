{
 "cells": [
  {
   "cell_type": "code",
   "execution_count": null,
   "metadata": {
    "collapsed": true,
    "pycharm": {
     "is_executing": true
    }
   },
   "outputs": [],
   "source": [
    "# rowsBetween & rangeBetween\n",
    "# Window.unboundedPreceding\n",
    "# Window.unboundedFollowing\n",
    "# Window.currentRow\n",
    "from pyspark.sql import SparkSession\n",
    "from pyspark.sql import Window\n",
    "from pyspark.sql.functions import *\n",
    "\n",
    "spark = SparkSession.builder.master(\"local\").getOrCreate()\n",
    "df = spark.createDataFrame([\n",
    "    [\"Student A\",1,\"Science\",10],\n",
    "    [\"Student A\",1,\"Art\",20],\n",
    "\n",
    "    [\"Student B\",1,\"Science\",10],\n",
    "    [\"Student B\",1,\"Art\",40],\n",
    "\n",
    "    [\"Student C\",2,\"Science\",50],\n",
    "    [\"Student C\",2,\"Art\",60],\n",
    "\n",
    "    [\"Student D\",2,\"Science\",70],\n",
    "    [\"Student D\",2,\"Art\",60],\n",
    "],[\"NAME\",\"CLASS\",\"SUBJECT\",\"SCORE\"])\n",
    "\n",
    "Window.partitionBy(df.SUBJECT).orderBy(df.SCORE).rowsBetween(Window.unboundedPreceding,Window.currentRow)\n",
    "Window.partitionBy(df.SUBJECT).orderBy(df.SCORE).rangeBetween(Window.unboundedFollowing)"
   ]
  },
  {
   "cell_type": "code",
   "execution_count": null,
   "outputs": [],
   "source": [],
   "metadata": {
    "collapsed": false
   }
  }
 ],
 "metadata": {
  "kernelspec": {
   "display_name": "Python 3",
   "language": "python",
   "name": "python3"
  },
  "language_info": {
   "codemirror_mode": {
    "name": "ipython",
    "version": 2
   },
   "file_extension": ".py",
   "mimetype": "text/x-python",
   "name": "python",
   "nbconvert_exporter": "python",
   "pygments_lexer": "ipython2",
   "version": "2.7.6"
  }
 },
 "nbformat": 4,
 "nbformat_minor": 0
}
